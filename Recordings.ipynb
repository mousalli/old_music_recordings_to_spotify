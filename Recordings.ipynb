{
 "cells": [
  {
   "cell_type": "markdown",
   "id": "9fb82fc5",
   "metadata": {},
   "source": [
    "\n",
    "# 🎧 Jonny's Musical Memory Project\n",
    "\n",
    "This project uses machine learning and automation tools to process 13 hours of personal analog music recordings. The pipeline performs:\n",
    "\n",
    "1. Transcription of MP3 audio files using Whisper\n",
    "2. Song identification through Google lyrics search\n",
    "3. Automatic Spotify playlist creation using your own Spotify Developer App\n",
    "4. Predictive modeling of future musical preferences\n",
    "\n",
    "> ⚠️ **Note**: All API credentials have been sanitized. Replace placeholders with your actual Spotify developer keys to run the code.\n",
    "\n",
    "---\n"
   ]
  },
  {
   "cell_type": "code",
   "execution_count": 1,
   "id": "9a74a2c7-6d17-46ab-832b-61b636ba7542",
   "metadata": {},
   "outputs": [],
   "source": [
    "import sys\n",
    "import os\n",
    "import whisper\n",
    "import warnings\n",
    "import subprocess\n",
    "from pydub import AudioSegment, silence\n",
    "from googlesearch import search\n",
    "import time\n",
    "warnings.simplefilter(\"ignore\")"
   ]
  },
  {
   "cell_type": "code",
   "execution_count": 2,
   "id": "6e3cf6c3-b95d-4a56-91a9-cca108313f7d",
   "metadata": {},
   "outputs": [
    {
     "name": "stdout",
     "output_type": "stream",
     "text": [
      "Conversion complete. Try transcribing the WAV file.\n"
     ]
    }
   ],
   "source": [
    "input_file = \"cinta_1_pista_1.mp3\"\n",
    "output_file = \"cinta_1_pista_1.wav\"\n",
    "\n",
    "# Convert MP3 to WAV (Mono, 16kHz)\n",
    "subprocess.run([\"ffmpeg\", \"-i\", input_file, \"-ac\", \"1\", \"-ar\", \"16000\", output_file])\n",
    "print(\"Conversion complete. Try transcribing the WAV file.\")"
   ]
  },
  {
   "cell_type": "code",
   "execution_count": null,
   "id": "5385926c-3398-4d05-9bc9-8f52d95223b8",
   "metadata": {},
   "outputs": [],
   "source": [
    "model = whisper.load_model(\"small\")\n",
    "result = model.transcribe(\"cinta_1_pista_1.wav\")\n",
    "\n",
    "\n",
    "# Save the transcription to a file\n",
    "output_file = \"cinta_1_pista_1_transcription.txt\"\n",
    "with open(output_file, \"w\", encoding=\"utf-8\") as f:\n",
    "    f.write(result['text'])\n",
    "\n",
    "print(f\"Transcription saved to {output_file}\")"
   ]
  },
  {
   "cell_type": "code",
   "execution_count": null,
   "id": "54bbca23-7d70-49e4-be03-36137efcc0cf",
   "metadata": {},
   "outputs": [],
   "source": [
    "# Load the audio file (convert to WAV first if needed)\n",
    "audio = AudioSegment.from_mp3(\"cinta_1_pista_1.wav\")\n",
    "\n",
    "# Detect silent parts (threshold in dB, min duration in ms)\n",
    "silent_ranges = silence.detect_silence(audio, min_silence_len=2000, silence_thresh=-40)\n",
    "\n",
    "# Convert to seconds\n",
    "song_boundaries = [(start / 1000, end / 1000) for start, end in silent_ranges]\n",
    "\n",
    "# Print detected song boundaries\n",
    "for i, (start, end) in enumerate(song_boundaries):\n",
    "    print(f\"Potential song transition at {end:.2f} seconds\")\n",
    "\n",
    "# Save silence timestamps for reference\n",
    "with open(\"silence_boundaries.txt\", \"w\") as f:\n",
    "    for start, end in song_boundaries:\n",
    "        f.write(f\"{start:.2f} - {end:.2f} seconds\\n\")\n",
    "\n",
    "print(\"Silence detection complete. Check silence_boundaries.txt for timestamps.\")\n"
   ]
  },
  {
   "cell_type": "code",
   "execution_count": null,
   "id": "d67ac845-c07a-4da3-a28f-6fee80594053",
   "metadata": {},
   "outputs": [],
   "source": [
    "# Read the full transcription\n",
    "with open(\"cinta_1_pista_1_transcription.txt\", \"r\", encoding=\"utf-8\") as f:\n",
    "    full_text = f.readlines()\n",
    "\n",
    "# Approximate word rate (words per second) - Adjust if needed\n",
    "words_per_second = 2.5  # Assume 150 words per minute (slow speech)\n",
    "\n",
    "# Extract lyrics based on timestamps\n",
    "song_lyrics = []\n",
    "for i, (start, end) in enumerate(song_boundaries):\n",
    "    start_index = int(start * words_per_second)\n",
    "    end_index = int(end * words_per_second)\n",
    "    \n",
    "    # Extract potential song lyrics\n",
    "    song_snippet = \" \".join(full_text[start_index:end_index])\n",
    "    song_lyrics.append(song_snippet)\n",
    "\n",
    "    print(f\"\\n🔹 **Potential Song {i+1} Lyrics:**\\n{song_snippet[:300]}...\\n\")\n",
    "\n",
    "# Save extracted song lyrics for reference\n",
    "with open(\"extracted_songs.txt\", \"w\", encoding=\"utf-8\") as f:\n",
    "    for i, lyrics in enumerate(song_lyrics):\n",
    "        f.write(f\"\\n### Song {i+1}\\n{lyrics}\\n\\n\")\n",
    "\n",
    "print(\"Lyrics extracted. Check extracted_songs.txt.\")\n"
   ]
  },
  {
   "cell_type": "code",
   "execution_count": null,
   "id": "5e2196fa-d2c3-4586-b16d-05f01a214e0f",
   "metadata": {},
   "outputs": [],
   "source": [
    "# Read the full transcription\n",
    "with open(\"cinta_1_pista_1_transcription.txt\", \"r\", encoding=\"utf-8\") as f:\n",
    "    full_text = f.read()\n",
    "\n",
    "# Split text into sentences (or paragraphs)\n",
    "import re\n",
    "sentence_chunks = re.split(r'[\\n.!?]', full_text)  # Split at line breaks, periods, exclamation points\n",
    "\n",
    "# Keep only meaningful chunks (remove very short lines)\n",
    "lyrics_candidates = [chunk.strip() for chunk in sentence_chunks if len(chunk.strip()) > 20]\n",
    "\n",
    "# Show first few samples\n",
    "for i, snippet in enumerate(lyrics_candidates[:5]):\n",
    "    print(f\"\\n🔹 Potential Lyrics Snippet {i+1}:\\n{snippet[:200]}...\")  # First 200 characters\n",
    "\n",
    "# Save potential lyrics snippets for reference\n",
    "with open(\"potential_lyrics_snippets.txt\", \"w\", encoding=\"utf-8\") as f:\n",
    "    for snippet in lyrics_candidates:\n",
    "        f.write(f\"{snippet}\\n\\n\")\n",
    "\n",
    "print(\"\\n✅ Extracted lyrics snippets. Check potential_lyrics_snippets.txt.\")\n"
   ]
  },
  {
   "cell_type": "code",
   "execution_count": null,
   "id": "bdaa1594-efbd-488e-bfbb-928ed1137b5b",
   "metadata": {},
   "outputs": [],
   "source": [
    "def find_song_by_lyrics(lyrics_snippet):\n",
    "    query = f'\"{lyrics_snippet}\" song lyrics'\n",
    "    print(f\"\\n🔍 Searching: {query}\")\n",
    "\n",
    "    try:\n",
    "        results = list(search(query, num_results=3))  # Top 3 results\n",
    "        for url in results:\n",
    "            print(f\"🔗 {url}\")\n",
    "    except Exception as e:\n",
    "        print(f\"❌ Google search failed: {e}\")\n",
    "    time.sleep(2)  # Delay to avoid blocking\n",
    "\n",
    "# Search for first 5 lyrics snippets (to avoid too many requests)\n",
    "for i, lyrics in enumerate(lyrics_candidates[:5]):\n",
    "    print(f\"\\n🔹 Searching for Song {i+1} Lyrics:\\n{lyrics[:100]}...\")  # Show first 100 characters\n",
    "    find_song_by_lyrics(lyrics)\n"
   ]
  },
  {
   "cell_type": "code",
   "execution_count": null,
   "id": "9bfeaa0d-d2ec-4bda-a431-9725720a577f",
   "metadata": {},
   "outputs": [],
   "source": [
    "import re\n",
    "\n",
    "# Example: Extract song title from a Google result URL\n",
    "def extract_song_title(url):\n",
    "    match = re.search(r'\\/([^\\/]+)-lyrics', url)\n",
    "    if match:\n",
    "        title = match.group(1).replace(\"-\", \" \")\n",
    "        return title.title()\n",
    "    return None\n",
    "\n",
    "# Process search results and extract song titles\n",
    "song_titles = []\n",
    "for i, lyrics in enumerate(lyrics_candidates[:5]):  # Process first 5 searches\n",
    "    results = list(search(f'\"{lyrics}\" song lyrics', num_results=3))\n",
    "    \n",
    "    for url in results:\n",
    "        song_title = extract_song_title(url)\n",
    "        if song_title:\n",
    "            song_titles.append(song_title)\n",
    "\n",
    "# Print found songs\n",
    "print(\"\\n🎵 Possible Song Titles:\")\n",
    "for song in set(song_titles):  # Remove duplicates\n",
    "    print(f\"- {song}\")\n",
    "\n",
    "# Save song titles to a file\n",
    "with open(\"found_songs.txt\", \"w\", encoding=\"utf-8\") as f:\n",
    "    for song in set(song_titles):\n",
    "        f.write(f\"{song}\\n\")\n",
    "\n",
    "print(\"\\n✅ Song identification complete. Check found_songs.txt.\")\n"
   ]
  },
  {
   "cell_type": "code",
   "execution_count": null,
   "id": "8599a243-aea9-4c51-9073-fb93f3955a18",
   "metadata": {},
   "outputs": [
    {
     "name": "stderr",
     "output_type": "stream",
     "text": [
      "Couldn't read cache at: .cache\n"
     ]
    }
   ],
   "source": [
    "import spotipy\n",
    "from spotipy.oauth2 import SpotifyOAuth\n",
    "\n",
    "sp = spotipy.Spotify(auth_manager=SpotifyOAuth(\n",
    "    client_id=\"YOUR_CLIENT_IDa5c7eba8ac5d4159876455bdd424492e\",\n",
    "    client_secret=\"YOUR_CLIENT_SECRET398722a12bc24837b5dea054240cf8e9\",\n",
    "    redirect_uri=\"YOUR_REDIRECT_URI\",\n",
    "    scope=\"playlist-modify-public\",\n",
    "    open_browser=False  # Prevents opening a local server\n",
    "))\n",
    "\n",
    "\n",
    "# Create a new playlist\n",
    "user_id = sp.current_user()[\"id\"]\n",
    "playlist = sp.user_playlist_create(user_id, \"Las Canciones de Jonny de las cintas\", public=True)\n",
    "\n",
    "# Read found song titles\n",
    "with open(\"found_songs.txt\", \"r\", encoding=\"utf-8\") as f:\n",
    "    song_titles = f.readlines()\n",
    "\n",
    "# Search and add songs to Spotify playlist\n",
    "track_uris = []\n",
    "for song in song_titles:\n",
    "    results = sp.search(q=song.strip(), type=\"track\", limit=1)\n",
    "    if results[\"tracks\"][\"items\"]:\n",
    "        track_uris.append(results[\"tracks\"][\"items\"][0][\"uri\"])\n",
    "\n",
    "# Add found songs to the playlist\n",
    "sp.playlist_add_items(playlist[\"id\"], track_uris)\n",
    "print(\"\\n✅ Spotify playlist created successfully!\")\n"
   ]
  },
  {
   "cell_type": "code",
   "execution_count": null,
   "id": "e00981e0-92c0-4423-8f3b-a69df596302d",
   "metadata": {},
   "outputs": [],
   "source": []
  }
 ],
 "metadata": {
  "kernelspec": {
   "display_name": "Python [conda env:base] *",
   "language": "python",
   "name": "conda-base-py"
  },
  "language_info": {
   "codemirror_mode": {
    "name": "ipython",
    "version": 3
   },
   "file_extension": ".py",
   "mimetype": "text/x-python",
   "name": "python",
   "nbconvert_exporter": "python",
   "pygments_lexer": "ipython3",
   "version": "3.12.4"
  }
 },
 "nbformat": 4,
 "nbformat_minor": 5
}
